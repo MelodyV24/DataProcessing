{
 "cells": [
  {
   "cell_type": "code",
   "execution_count": 1,
   "metadata": {
    "collapsed": false
   },
   "outputs": [],
   "source": [
    "from processor import ProcessadorDeSentimentos"
   ]
  },
  {
   "cell_type": "code",
   "execution_count": 12,
   "metadata": {
    "collapsed": true
   },
   "outputs": [],
   "source": [
    "afirmNegativas = [('A Dilma é uma vadia', 'negativo'), ('A Dilma é uma filha da puta', 'negativo'), ('A Dilma é uma corna', 'negativo'), ('A Dilma é uma corrupta', 'negativo'), ('A Dilma é uma petralha', 'negativo'),('O impeachment é golpe', 'negativo'),\n",
    "('O impeachment é uma coisa linda', 'negativo'),('O impeachment vai salvar a nós', 'negativo'),('O impeachment melhorará a situação', 'negativo'),('O impeachment vai fazer a gente crescer', 'negativo'),('O Lula é um corrupto', 'negativo'),('O Lula é maldito', 'negativo'),('O Lula é sem vergonha', 'negativo'),('O Lula roubou para cacete', 'negativo'),('O Lula não tem um dedo', 'negativo'),('O Lula é um infeliz', 'negativo'),\n",
    "('O PT é corrupto', 'negativo'),('O juiz Sergio Moro está complicando as situações', 'negativo'),('O PT é ladrão', 'negativo'),('O PT é problemático', 'negativo'),('O PT é cheio de problemas', 'negativo'),('O PT é zuado', 'negativo')]\n"
   ]
  },
  {
   "cell_type": "code",
   "execution_count": 13,
   "metadata": {
    "collapsed": false
   },
   "outputs": [],
   "source": [
    "afirmPositivas = [('O juiz Sergio Moro salvará o país', 'positiva'),('A Dilma é uma boa presidenta', 'positiva'),('A Dilma não é ladra', 'positiva'),('A Dilma não cometeu nenhum crime', 'positiva'),('A Dilma não é corrupta', 'positiva'),('O Lula salvou os pobres', 'positiva'),('O governo ajudou aos pobres', 'positiva'),('O Lula não é corrupto', 'positiva'),('O Lula ajudou o Brasil', 'positiva'),('O brasil teve ajuda do PT nos últimos anos', 'positiva'),('A TV manipula as pessoas contra o governo', 'positiva'),('o Governo ajudou a todos', 'positiva'),('O governo não cometeu nenhum crime', 'positiva'),('Os criminosos não estão no governo', 'positiva'),('Como podem acusar a dilma sem nem terem provas?', 'positiva'),('O PT criou o bolsa família, deixe eles no poder', 'positiva'),('Sou governista e ponto, sou feliz assim', 'positiva'),('O governo não é corrupto', 'positiva'),('Não temos nenhuma prova para mostrar que nossa presidenta cometeu crime', 'positiva'),('O esquema da Petrobrás é uma farça', 'positiva')]\n"
   ]
  },
  {
   "cell_type": "code",
   "execution_count": 14,
   "metadata": {
    "collapsed": true
   },
   "outputs": [],
   "source": [
    "kitamostral = ProcessadorDeSentimentos.tokenize(afirmNegativas + afirmPositivas)"
   ]
  },
  {
   "cell_type": "code",
   "execution_count": 15,
   "metadata": {
    "collapsed": false
   },
   "outputs": [],
   "source": [
    "processor = ProcessadorDeSentimentos(kitamostral)"
   ]
  },
  {
   "cell_type": "code",
   "execution_count": 18,
   "metadata": {
    "collapsed": false
   },
   "outputs": [
    {
     "data": {
      "text/plain": [
       "'negativo'"
      ]
     },
     "execution_count": 18,
     "metadata": {},
     "output_type": "execute_result"
    }
   ],
   "source": [
    "processor.classifica('Olá')"
   ]
  },
  {
   "cell_type": "code",
   "execution_count": null,
   "metadata": {
    "collapsed": true
   },
   "outputs": [],
   "source": []
  }
 ],
 "metadata": {
  "kernelspec": {
   "display_name": "Python 3",
   "language": "python",
   "name": "python3"
  },
  "language_info": {
   "codemirror_mode": {
    "name": "ipython",
    "version": 3
   },
   "file_extension": ".py",
   "mimetype": "text/x-python",
   "name": "python",
   "nbconvert_exporter": "python",
   "pygments_lexer": "ipython3",
   "version": "3.4.3"
  }
 },
 "nbformat": 4,
 "nbformat_minor": 0
}
