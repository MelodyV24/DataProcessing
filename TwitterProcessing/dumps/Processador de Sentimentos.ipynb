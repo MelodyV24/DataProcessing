{
 "cells": [
  {
   "cell_type": "markdown",
   "metadata": {},
   "source": [
    "# Analisador de Sentimentos dos Tweets"
   ]
  },
  {
   "cell_type": "markdown",
   "metadata": {},
   "source": [
    "Projeto disponível em: http://wp-a.co/u/TwitterProcessing"
   ]
  },
  {
   "cell_type": "code",
   "execution_count": 1,
   "metadata": {
    "collapsed": false
   },
   "outputs": [],
   "source": [
    "from processor import ProcessadorDeSentimentos"
   ]
  },
  {
   "cell_type": "code",
   "execution_count": 2,
   "metadata": {
    "collapsed": true
   },
   "outputs": [],
   "source": [
    "afirmNegativas = [('Vivemos em um país lixo!', \"negativo\"),('O país é horrível!', \"negativo\"),('A Dilma é uma vadia', 'negativo'), ('A Dilma é uma filha da puta', 'negativo'), ('A Dilma é uma corna', 'negativo'), ('A Dilma é uma corrupta', 'negativo'), ('A Dilma é uma petralha', 'negativo'),('O impeachment é uma coisa linda', 'negativo'),('O impeachment vai salvar a nós', 'negativo'),\n",
    "('O impeachment melhorará a situação', 'negativo'),('O impeachment vai fazer a gente crescer', 'negativo'),('O Lula é um corrupto', 'negativo'),('O Lula é maldito', 'negativo'),('O Lula é sem vergonha', 'negativo'),('O Lula roubou para cacete', 'negativo'),('O Lula não tem um dedo', 'negativo'),('O Lula é um infeliz', 'negativo'),('O PT é corrupto', 'negativo'),('O juiz Sergio Moro está complicando as situações', 'negativo'),\n",
    "('O PT é ladrão', 'negativo'),('O PT é problemático', 'negativo'),('O PT é cheio de problemas', 'negativo'),('O PT é zuado', 'negativo'),('A crise é por causa do PT', 'negativo'),('A crise é uma coisa que ninguém entende', 'negativo'),('Os comunistas estão chegando no Brasil', 'negativo'),('Os cubanos estão chegando no Brasil', 'negativo'),('Os coxinhas vão derrubar os comunistas', 'negativo')]"
   ]
  },
  {
   "cell_type": "code",
   "execution_count": 3,
   "metadata": {
    "collapsed": false
   },
   "outputs": [],
   "source": [
    "afirmPositivas = [('Impeachment não vai tirar o Cunha e nenhum deputado!', \"positiva\"),('Impeachment não levantará a econômia!', \"positiva\"),('Impeachment não ajudará a gente!', \"positiva\"),('Vivemos em um país ótimo!', \"positiva\"),('O país é bom!', \"positiva\"),('A Dilma é uma boa presidenta', 'positiva'),('A Dilma não é ladra', 'positiva'),('A Dilma não cometeu nenhum crime', 'positiva'),('A Dilma não é corrupta', 'positiva'),\n",
    "('O Lula salvou os pobres', 'positiva'),('O governo ajudou aos pobres', 'positiva'),('O Lula não é corrupto', 'positiva'),('O Lula ajudou a todos', 'positiva'),('Tivemos ajuda do PT nos últimos anos', 'positiva'),('A TV manipula as pessoas contra o governo', 'positiva'),('o Governo ajudou a todos', 'positiva'),('O governo não cometeu nenhum crime', 'positiva'),('Os criminosos não estão no governo', 'positiva'),('Como podem acusar a dilma sem nem terem provas?', 'positiva'),\n",
    "('O PT criou o bolsa família, deixe eles no poder', 'positiva'),('Sou governista e ponto, sou feliz assim', 'positiva'),('O governo não é corrupto', 'positiva'),('Não temos nenhuma prova para mostrar que nossa presidenta cometeu crime', 'positiva'),('O esquema da Petrobrás é uma farça', 'positiva'),('O impeachment é golpe', 'positiva'),\n",
    "('A crise foi criada pela mídia', 'positiva'), ('A mídia influência a cabeça', 'positiva')]"
   ]
  },
  {
   "cell_type": "code",
   "execution_count": 4,
   "metadata": {
    "collapsed": true
   },
   "outputs": [],
   "source": [
    "kitamostral = ProcessadorDeSentimentos.tokenize(afirmNegativas + afirmPositivas)"
   ]
  },
  {
   "cell_type": "code",
   "execution_count": 5,
   "metadata": {
    "collapsed": false
   },
   "outputs": [],
   "source": [
    "processor = ProcessadorDeSentimentos(kitamostral)"
   ]
  },
  {
   "cell_type": "code",
   "execution_count": 6,
   "metadata": {
    "collapsed": false
   },
   "outputs": [],
   "source": [
    "valorPositivas = 0\n",
    "Positivas = []\n",
    "valorNegativas = 0\n",
    "Negativas = []"
   ]
  },
  {
   "cell_type": "code",
   "execution_count": 7,
   "metadata": {
    "collapsed": true
   },
   "outputs": [],
   "source": [
    "for linha in open(\"dbs/saida0-sl.txt\"):\n",
    "    if processor.classifica(linha) is \"positiva\":\n",
    "        valorPositivas = valorPositivas + 1\n",
    "        Positivas.append(linha)\n",
    "    else:\n",
    "        valorNegativas = valorNegativas + 1\n",
    "        Negativas.append(linha)"
   ]
  },
  {
   "cell_type": "code",
   "execution_count": 8,
   "metadata": {
    "collapsed": false
   },
   "outputs": [
    {
     "name": "stdout",
     "output_type": "stream",
     "text": [
      "85217\n"
     ]
    }
   ],
   "source": [
    "print(valorNegativas)"
   ]
  },
  {
   "cell_type": "markdown",
   "metadata": {},
   "source": [
    "## Gerando os Gráficos com Bokeh"
   ]
  },
  {
   "cell_type": "code",
   "execution_count": 9,
   "metadata": {
    "collapsed": false
   },
   "outputs": [],
   "source": [
    "from bokeh.charts import Bar, output_file, show, hplot, output_notebook, show"
   ]
  },
  {
   "cell_type": "code",
   "execution_count": 10,
   "metadata": {
    "collapsed": false
   },
   "outputs": [
    {
     "data": {
      "text/html": [
       "\n",
       "    <div class=\"bk-banner\">\n",
       "        <a href=\"http://bokeh.pydata.org\" target=\"_blank\" class=\"bk-logo bk-logo-small bk-logo-notebook\"></a>\n",
       "        <span id=\"f953ff43-067a-43ae-8345-c1951cab613c\">Loading BokehJS ...</span>\n",
       "    </div>"
      ]
     },
     "metadata": {},
     "output_type": "display_data"
    },
    {
     "data": {
      "application/javascript": [
       "\n",
       "(function(global) {\n",
       "  function now() {\n",
       "    return new Date();\n",
       "  }\n",
       "\n",
       "  if (typeof (window._bokeh_onload_callbacks) === \"undefined\") {\n",
       "    window._bokeh_onload_callbacks = [];\n",
       "  }\n",
       "\n",
       "  function run_callbacks() {\n",
       "    window._bokeh_onload_callbacks.forEach(function(callback) { callback() });\n",
       "    delete window._bokeh_onload_callbacks\n",
       "    console.info(\"Bokeh: all callbacks have finished\");\n",
       "  }\n",
       "\n",
       "  function load_libs(js_urls, callback) {\n",
       "    window._bokeh_onload_callbacks.push(callback);\n",
       "    if (window._bokeh_is_loading > 0) {\n",
       "      console.log(\"Bokeh: BokehJS is being loaded, scheduling callback at\", now());\n",
       "      return null;\n",
       "    }\n",
       "    if (js_urls == null || js_urls.length === 0) {\n",
       "      run_callbacks();\n",
       "      return null;\n",
       "    }\n",
       "    console.log(\"Bokeh: BokehJS not loaded, scheduling load and callback at\", now());\n",
       "    window._bokeh_is_loading = js_urls.length;\n",
       "    for (var i = 0; i < js_urls.length; i++) {\n",
       "      var url = js_urls[i];\n",
       "      var s = document.createElement('script');\n",
       "      s.src = url;\n",
       "      s.async = false;\n",
       "      s.onreadystatechange = s.onload = function() {\n",
       "        window._bokeh_is_loading--;\n",
       "        if (window._bokeh_is_loading === 0) {\n",
       "          console.log(\"Bokeh: all BokehJS libraries loaded\");\n",
       "          run_callbacks()\n",
       "        }\n",
       "      };\n",
       "      s.onerror = function() {\n",
       "        console.warn(\"failed to load library \" + url);\n",
       "      };\n",
       "      console.log(\"Bokeh: injecting script tag for BokehJS library: \", url);\n",
       "      document.getElementsByTagName(\"head\")[0].appendChild(s);\n",
       "    }\n",
       "  };\n",
       "\n",
       "  var js_urls = ['https://cdn.pydata.org/bokeh/release/bokeh-0.11.1.min.js', 'https://cdn.pydata.org/bokeh/release/bokeh-widgets-0.11.1.min.js', 'https://cdn.pydata.org/bokeh/release/bokeh-compiler-0.11.1.min.js'];\n",
       "\n",
       "  var inline_js = [\n",
       "    function(Bokeh) {\n",
       "      Bokeh.set_log_level(\"info\");\n",
       "    },\n",
       "    \n",
       "    function(Bokeh) {\n",
       "      Bokeh.$(\"#f953ff43-067a-43ae-8345-c1951cab613c\").text(\"BokehJS successfully loaded\");\n",
       "    },\n",
       "    function(Bokeh) {\n",
       "      console.log(\"Bokeh: injecting CSS: https://cdn.pydata.org/bokeh/release/bokeh-0.11.1.min.css\");\n",
       "      Bokeh.embed.inject_css(\"https://cdn.pydata.org/bokeh/release/bokeh-0.11.1.min.css\");\n",
       "      console.log(\"Bokeh: injecting CSS: https://cdn.pydata.org/bokeh/release/bokeh-widgets-0.11.1.min.css\");\n",
       "      Bokeh.embed.inject_css(\"https://cdn.pydata.org/bokeh/release/bokeh-widgets-0.11.1.min.css\");\n",
       "    }\n",
       "  ];\n",
       "\n",
       "  function run_inline_js() {\n",
       "    for (var i = 0; i < inline_js.length; i++) {\n",
       "      inline_js[i](window.Bokeh);\n",
       "    }\n",
       "  }\n",
       "\n",
       "  if (window._bokeh_is_loading === 0) {\n",
       "    console.log(\"Bokeh: BokehJS loaded, going straight to plotting\");\n",
       "    run_inline_js();\n",
       "  } else {\n",
       "    load_libs(js_urls, function() {\n",
       "      console.log(\"Bokeh: BokehJS plotting callback run at\", now());\n",
       "      run_inline_js();\n",
       "    });\n",
       "  }\n",
       "}(this));"
      ]
     },
     "metadata": {},
     "output_type": "display_data"
    }
   ],
   "source": [
    "output_notebook()"
   ]
  },
  {
   "cell_type": "code",
   "execution_count": 11,
   "metadata": {
    "collapsed": true
   },
   "outputs": [],
   "source": [
    "data = {\n",
    "    'sample': ['Pró-Governo','Contra'],\n",
    "    'sentido': ['Pró-Governo','Contra'],\n",
    "    'quantidade': [int(valorPositivas), int(valorNegativas)]\n",
    "}"
   ]
  },
  {
   "cell_type": "code",
   "execution_count": 12,
   "metadata": {
    "collapsed": true
   },
   "outputs": [],
   "source": [
    "bar = Bar(data, values='quantidade', label='sentido', stack='sample',\n",
    "          title=\"Quantidade de Tweets por opinião\", legend='top_right', width=600)"
   ]
  },
  {
   "cell_type": "code",
   "execution_count": 13,
   "metadata": {
    "collapsed": true
   },
   "outputs": [],
   "source": [
    "#output_file(\"stacked_bar.png\")"
   ]
  },
  {
   "cell_type": "code",
   "execution_count": 14,
   "metadata": {
    "collapsed": false
   },
   "outputs": [
    {
     "data": {
      "text/html": [
       "\n",
       "\n",
       "    <div class=\"plotdiv\" id=\"c7b37bb2-d6c0-45ac-82c4-242ac432a3a8\"></div>\n",
       "<script type=\"text/javascript\">\n",
       "  \n",
       "  (function(global) {\n",
       "    function now() {\n",
       "      return new Date();\n",
       "    }\n",
       "  \n",
       "    if (typeof (window._bokeh_onload_callbacks) === \"undefined\") {\n",
       "      window._bokeh_onload_callbacks = [];\n",
       "    }\n",
       "  \n",
       "    function run_callbacks() {\n",
       "      window._bokeh_onload_callbacks.forEach(function(callback) { callback() });\n",
       "      delete window._bokeh_onload_callbacks\n",
       "      console.info(\"Bokeh: all callbacks have finished\");\n",
       "    }\n",
       "  \n",
       "    function load_libs(js_urls, callback) {\n",
       "      window._bokeh_onload_callbacks.push(callback);\n",
       "      if (window._bokeh_is_loading > 0) {\n",
       "        console.log(\"Bokeh: BokehJS is being loaded, scheduling callback at\", now());\n",
       "        return null;\n",
       "      }\n",
       "      if (js_urls == null || js_urls.length === 0) {\n",
       "        run_callbacks();\n",
       "        return null;\n",
       "      }\n",
       "      console.log(\"Bokeh: BokehJS not loaded, scheduling load and callback at\", now());\n",
       "      window._bokeh_is_loading = js_urls.length;\n",
       "      for (var i = 0; i < js_urls.length; i++) {\n",
       "        var url = js_urls[i];\n",
       "        var s = document.createElement('script');\n",
       "        s.src = url;\n",
       "        s.async = false;\n",
       "        s.onreadystatechange = s.onload = function() {\n",
       "          window._bokeh_is_loading--;\n",
       "          if (window._bokeh_is_loading === 0) {\n",
       "            console.log(\"Bokeh: all BokehJS libraries loaded\");\n",
       "            run_callbacks()\n",
       "          }\n",
       "        };\n",
       "        s.onerror = function() {\n",
       "          console.warn(\"failed to load library \" + url);\n",
       "        };\n",
       "        console.log(\"Bokeh: injecting script tag for BokehJS library: \", url);\n",
       "        document.getElementsByTagName(\"head\")[0].appendChild(s);\n",
       "      }\n",
       "    };var element = document.getElementById(\"c7b37bb2-d6c0-45ac-82c4-242ac432a3a8\");\n",
       "    if (element == null) {\n",
       "      console.log(\"Bokeh: ERROR: autoload.js configured with elementid 'c7b37bb2-d6c0-45ac-82c4-242ac432a3a8' but no matching script tag was found. \")\n",
       "      return false;\n",
       "    }\n",
       "  \n",
       "    var js_urls = [];\n",
       "  \n",
       "    var inline_js = [\n",
       "      function(Bokeh) {\n",
       "        Bokeh.$(function() {\n",
       "            var docs_json = {\"f049d315-39ea-478c-816c-f3dcd18fe021\":{\"roots\":{\"references\":[{\"attributes\":{\"data_source\":{\"id\":\"21e0bde5-44ab-4987-887c-49f544d2b91b\",\"type\":\"ColumnDataSource\"},\"glyph\":{\"id\":\"f7615533-d857-4036-a164-b5bcdc0a2ee7\",\"type\":\"Rect\"},\"hover_glyph\":null,\"nonselection_glyph\":null,\"selection_glyph\":null},\"id\":\"8fdb3ede-854a-494b-b987-d88da7f7418d\",\"type\":\"GlyphRenderer\"},{\"attributes\":{\"fill_alpha\":{\"field\":\"fill_alpha\"},\"fill_color\":{\"field\":\"color\"},\"height\":{\"field\":\"height\",\"units\":\"data\"},\"line_color\":{\"field\":\"line_color\"},\"width\":{\"field\":\"width\",\"units\":\"data\"},\"x\":{\"field\":\"x\"},\"y\":{\"field\":\"y\"}},\"id\":\"429bfb6a-90e2-4ef2-b38b-691d4051915a\",\"type\":\"Rect\"},{\"attributes\":{\"data_source\":{\"id\":\"ed377f29-ebfe-456d-bcdd-15a1343490de\",\"type\":\"ColumnDataSource\"},\"glyph\":{\"id\":\"429bfb6a-90e2-4ef2-b38b-691d4051915a\",\"type\":\"Rect\"},\"hover_glyph\":null,\"nonselection_glyph\":null,\"selection_glyph\":null},\"id\":\"0188186f-f91d-46a7-aabf-82ee065f5fa2\",\"type\":\"GlyphRenderer\"},{\"attributes\":{},\"id\":\"aa17f02b-01dc-4b82-a4ea-38b4c83a0cde\",\"type\":\"CategoricalTicker\"},{\"attributes\":{\"plot\":{\"id\":\"d5fb7929-068f-4d40-90eb-3f0e7be52f7c\",\"subtype\":\"Chart\",\"type\":\"Plot\"}},\"id\":\"eafd76d4-aa7c-4a25-ae0e-b06a6551989e\",\"type\":\"PanTool\"},{\"attributes\":{\"plot\":{\"id\":\"d5fb7929-068f-4d40-90eb-3f0e7be52f7c\",\"subtype\":\"Chart\",\"type\":\"Plot\"}},\"id\":\"af8c6c66-cc99-4f70-8b8a-bf99089fcf9e\",\"type\":\"ResetTool\"},{\"attributes\":{\"dimension\":1,\"plot\":{\"id\":\"d5fb7929-068f-4d40-90eb-3f0e7be52f7c\",\"subtype\":\"Chart\",\"type\":\"Plot\"},\"ticker\":{\"id\":\"85b16d25-3d29-4539-a045-483fcff38ab9\",\"type\":\"BasicTicker\"}},\"id\":\"e7f93dda-07eb-44b6-a55e-783634a2f139\",\"type\":\"Grid\"},{\"attributes\":{\"callback\":null,\"column_names\":[\"fill_alpha\",\"line_color\",\"line_alpha\",\"color\",\"x\",\"y\",\"height\",\"width\"],\"data\":{\"chart_index\":[{\"sample\":\"Contra\",\"sentido\":\"Contra\"}],\"color\":[\"#f22c40\"],\"fill_alpha\":[0.8],\"height\":[85217.0],\"line_alpha\":[1.0],\"line_color\":[\"white\"],\"sample\":[\"Contra\"],\"sentido\":[\"Contra\"],\"width\":[0.8],\"x\":[\"Contra\"],\"y\":[42608.5]}},\"id\":\"ed377f29-ebfe-456d-bcdd-15a1343490de\",\"type\":\"ColumnDataSource\"},{\"attributes\":{\"axis_label\":\"Sentido\",\"formatter\":{\"id\":\"b51f95ce-f11e-4f19-a119-c28ac17217e8\",\"type\":\"CategoricalTickFormatter\"},\"major_label_orientation\":0.7853981633974483,\"plot\":{\"id\":\"d5fb7929-068f-4d40-90eb-3f0e7be52f7c\",\"subtype\":\"Chart\",\"type\":\"Plot\"},\"ticker\":{\"id\":\"aa17f02b-01dc-4b82-a4ea-38b4c83a0cde\",\"type\":\"CategoricalTicker\"}},\"id\":\"ae69d0ff-8538-4c35-a031-99fabc245bcc\",\"type\":\"CategoricalAxis\"},{\"attributes\":{},\"id\":\"85b16d25-3d29-4539-a045-483fcff38ab9\",\"type\":\"BasicTicker\"},{\"attributes\":{\"fill_alpha\":{\"field\":\"fill_alpha\"},\"fill_color\":{\"field\":\"color\"},\"height\":{\"field\":\"height\",\"units\":\"data\"},\"line_color\":{\"field\":\"line_color\"},\"width\":{\"field\":\"width\",\"units\":\"data\"},\"x\":{\"field\":\"x\"},\"y\":{\"field\":\"y\"}},\"id\":\"f7615533-d857-4036-a164-b5bcdc0a2ee7\",\"type\":\"Rect\"},{\"attributes\":{},\"id\":\"b51f95ce-f11e-4f19-a119-c28ac17217e8\",\"type\":\"CategoricalTickFormatter\"},{\"attributes\":{\"plot\":{\"id\":\"d5fb7929-068f-4d40-90eb-3f0e7be52f7c\",\"subtype\":\"Chart\",\"type\":\"Plot\"}},\"id\":\"f5141329-24df-447d-8bb3-1bfd7b240bda\",\"type\":\"PreviewSaveTool\"},{\"attributes\":{\"overlay\":{\"id\":\"60051d7a-8e18-4410-8590-41481cedb51f\",\"type\":\"BoxAnnotation\"},\"plot\":{\"id\":\"d5fb7929-068f-4d40-90eb-3f0e7be52f7c\",\"subtype\":\"Chart\",\"type\":\"Plot\"}},\"id\":\"14affbcd-7a48-48c5-aa75-06b491d21300\",\"type\":\"BoxZoomTool\"},{\"attributes\":{\"below\":[{\"id\":\"ae69d0ff-8538-4c35-a031-99fabc245bcc\",\"type\":\"CategoricalAxis\"}],\"left\":[{\"id\":\"3bb3d1f5-a025-4c20-9cc5-878410824fd3\",\"type\":\"LinearAxis\"}],\"legend\":\"top_right\",\"renderers\":[{\"id\":\"60051d7a-8e18-4410-8590-41481cedb51f\",\"type\":\"BoxAnnotation\"},{\"id\":\"8fdb3ede-854a-494b-b987-d88da7f7418d\",\"type\":\"GlyphRenderer\"},{\"id\":\"0188186f-f91d-46a7-aabf-82ee065f5fa2\",\"type\":\"GlyphRenderer\"},{\"id\":\"1321354d-b780-4f4b-8a15-544306bc78a0\",\"type\":\"Legend\"},{\"id\":\"ae69d0ff-8538-4c35-a031-99fabc245bcc\",\"type\":\"CategoricalAxis\"},{\"id\":\"3bb3d1f5-a025-4c20-9cc5-878410824fd3\",\"type\":\"LinearAxis\"},{\"id\":\"e7f93dda-07eb-44b6-a55e-783634a2f139\",\"type\":\"Grid\"}],\"title\":\"Quantidade de Tweets por opini\\u00e3o\",\"title_text_font_size\":{\"value\":\"14pt\"},\"tool_events\":{\"id\":\"4a94898b-6c0d-4fce-89e5-6bb73f3ed4cd\",\"type\":\"ToolEvents\"},\"tools\":[{\"id\":\"eafd76d4-aa7c-4a25-ae0e-b06a6551989e\",\"type\":\"PanTool\"},{\"id\":\"1a14b251-06b5-4f11-95d3-06192c32bfd7\",\"type\":\"WheelZoomTool\"},{\"id\":\"14affbcd-7a48-48c5-aa75-06b491d21300\",\"type\":\"BoxZoomTool\"},{\"id\":\"f5141329-24df-447d-8bb3-1bfd7b240bda\",\"type\":\"PreviewSaveTool\"},{\"id\":\"23905f5a-3267-4367-a2ad-23c744d189e7\",\"type\":\"ResizeTool\"},{\"id\":\"af8c6c66-cc99-4f70-8b8a-bf99089fcf9e\",\"type\":\"ResetTool\"},{\"id\":\"e7679f53-5065-4d86-ba56-6390e94b2dc8\",\"type\":\"HelpTool\"}],\"x_mapper_type\":\"auto\",\"x_range\":{\"id\":\"81f1b6c3-d040-41ec-ad9e-5488ae117a84\",\"type\":\"FactorRange\"},\"xgrid\":false,\"xscale\":\"auto\",\"y_mapper_type\":\"auto\",\"y_range\":{\"id\":\"cffbed57-eab5-42f2-bbc5-5860ae293431\",\"type\":\"Range1d\"},\"yscale\":\"auto\"},\"id\":\"d5fb7929-068f-4d40-90eb-3f0e7be52f7c\",\"subtype\":\"Chart\",\"type\":\"Plot\"},{\"attributes\":{\"plot\":{\"id\":\"d5fb7929-068f-4d40-90eb-3f0e7be52f7c\",\"subtype\":\"Chart\",\"type\":\"Plot\"}},\"id\":\"23905f5a-3267-4367-a2ad-23c744d189e7\",\"type\":\"ResizeTool\"},{\"attributes\":{\"plot\":{\"id\":\"d5fb7929-068f-4d40-90eb-3f0e7be52f7c\",\"subtype\":\"Chart\",\"type\":\"Plot\"}},\"id\":\"e7679f53-5065-4d86-ba56-6390e94b2dc8\",\"type\":\"HelpTool\"},{\"attributes\":{\"plot\":{\"id\":\"d5fb7929-068f-4d40-90eb-3f0e7be52f7c\",\"subtype\":\"Chart\",\"type\":\"Plot\"}},\"id\":\"1a14b251-06b5-4f11-95d3-06192c32bfd7\",\"type\":\"WheelZoomTool\"},{\"attributes\":{\"callback\":null,\"factors\":[\"Contra\",\"Pr\\u00f3-Governo\"]},\"id\":\"81f1b6c3-d040-41ec-ad9e-5488ae117a84\",\"type\":\"FactorRange\"},{\"attributes\":{\"bottom_units\":\"screen\",\"fill_alpha\":{\"value\":0.5},\"fill_color\":{\"value\":\"lightgrey\"},\"left_units\":\"screen\",\"level\":\"overlay\",\"line_alpha\":{\"value\":1.0},\"line_color\":{\"value\":\"black\"},\"line_dash\":[4,4],\"line_width\":{\"value\":2},\"plot\":null,\"render_mode\":\"css\",\"right_units\":\"screen\",\"top_units\":\"screen\"},\"id\":\"60051d7a-8e18-4410-8590-41481cedb51f\",\"type\":\"BoxAnnotation\"},{\"attributes\":{},\"id\":\"4a94898b-6c0d-4fce-89e5-6bb73f3ed4cd\",\"type\":\"ToolEvents\"},{\"attributes\":{\"axis_label\":\"Sum( Quantidade )\",\"formatter\":{\"id\":\"8867a502-1ac8-4acb-a498-d72e709c1203\",\"type\":\"BasicTickFormatter\"},\"plot\":{\"id\":\"d5fb7929-068f-4d40-90eb-3f0e7be52f7c\",\"subtype\":\"Chart\",\"type\":\"Plot\"},\"ticker\":{\"id\":\"85b16d25-3d29-4539-a045-483fcff38ab9\",\"type\":\"BasicTicker\"}},\"id\":\"3bb3d1f5-a025-4c20-9cc5-878410824fd3\",\"type\":\"LinearAxis\"},{\"attributes\":{\"callback\":null,\"end\":89477.85},\"id\":\"cffbed57-eab5-42f2-bbc5-5860ae293431\",\"type\":\"Range1d\"},{\"attributes\":{\"callback\":null,\"column_names\":[\"fill_alpha\",\"line_color\",\"line_alpha\",\"color\",\"x\",\"y\",\"height\",\"width\"],\"data\":{\"chart_index\":[{\"sample\":\"Pr\\u00f3-Governo\",\"sentido\":\"Pr\\u00f3-Governo\"}],\"color\":[\"#5ab738\"],\"fill_alpha\":[0.8],\"height\":[21934.0],\"line_alpha\":[1.0],\"line_color\":[\"white\"],\"sample\":[\"Pr\\u00f3-Governo\"],\"sentido\":[\"Pr\\u00f3-Governo\"],\"width\":[0.8],\"x\":[\"Pr\\u00f3-Governo\"],\"y\":[10967.0]}},\"id\":\"21e0bde5-44ab-4987-887c-49f544d2b91b\",\"type\":\"ColumnDataSource\"},{\"attributes\":{},\"id\":\"8867a502-1ac8-4acb-a498-d72e709c1203\",\"type\":\"BasicTickFormatter\"},{\"attributes\":{\"legends\":[[\"Pr\\u00f3-Governo\",[{\"id\":\"8fdb3ede-854a-494b-b987-d88da7f7418d\",\"type\":\"GlyphRenderer\"}]],[\"Contra\",[{\"id\":\"0188186f-f91d-46a7-aabf-82ee065f5fa2\",\"type\":\"GlyphRenderer\"}]]],\"plot\":{\"id\":\"d5fb7929-068f-4d40-90eb-3f0e7be52f7c\",\"subtype\":\"Chart\",\"type\":\"Plot\"}},\"id\":\"1321354d-b780-4f4b-8a15-544306bc78a0\",\"type\":\"Legend\"}],\"root_ids\":[\"d5fb7929-068f-4d40-90eb-3f0e7be52f7c\"]},\"title\":\"Bokeh Application\",\"version\":\"0.11.1\"}};\n",
       "            var render_items = [{\"docid\":\"f049d315-39ea-478c-816c-f3dcd18fe021\",\"elementid\":\"c7b37bb2-d6c0-45ac-82c4-242ac432a3a8\",\"modelid\":\"d5fb7929-068f-4d40-90eb-3f0e7be52f7c\",\"notebook_comms_target\":\"50095391-0a5e-4be5-ade7-c61c683922ce\"}];\n",
       "            \n",
       "            Bokeh.embed.embed_items(docs_json, render_items);\n",
       "        });\n",
       "      },\n",
       "      function(Bokeh) {\n",
       "      }\n",
       "    ];\n",
       "  \n",
       "    function run_inline_js() {\n",
       "      for (var i = 0; i < inline_js.length; i++) {\n",
       "        inline_js[i](window.Bokeh);\n",
       "      }\n",
       "    }\n",
       "  \n",
       "    if (window._bokeh_is_loading === 0) {\n",
       "      console.log(\"Bokeh: BokehJS loaded, going straight to plotting\");\n",
       "      run_inline_js();\n",
       "    } else {\n",
       "      load_libs(js_urls, function() {\n",
       "        console.log(\"Bokeh: BokehJS plotting callback run at\", now());\n",
       "        run_inline_js();\n",
       "      });\n",
       "    }\n",
       "  }(this));\n",
       "</script>"
      ]
     },
     "metadata": {},
     "output_type": "display_data"
    },
    {
     "data": {
      "text/html": [
       "<p><code>&lt;Bokeh Notebook handle for <strong>In[14]</strong>&gt;</code></p>"
      ],
      "text/plain": [
       "<bokeh.io._CommsHandle at 0x1092ad828>"
      ]
     },
     "execution_count": 14,
     "metadata": {},
     "output_type": "execute_result"
    }
   ],
   "source": [
    "show(bar)"
   ]
  },
  {
   "cell_type": "code",
   "execution_count": null,
   "metadata": {
    "collapsed": true
   },
   "outputs": [],
   "source": []
  }
 ],
 "metadata": {
  "kernelspec": {
   "display_name": "Python 3",
   "language": "python",
   "name": "python3"
  },
  "language_info": {
   "codemirror_mode": {
    "name": "ipython",
    "version": 3
   },
   "file_extension": ".py",
   "mimetype": "text/x-python",
   "name": "python",
   "nbconvert_exporter": "python",
   "pygments_lexer": "ipython3",
   "version": "3.4.3"
  }
 },
 "nbformat": 4,
 "nbformat_minor": 0
}
